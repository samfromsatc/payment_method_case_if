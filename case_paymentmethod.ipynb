{
 "cells": [
  {
   "cell_type": "code",
   "execution_count": 97,
   "id": "11c5f42a-4274-4e4a-8fcd-ea291b4ed43c",
   "metadata": {},
   "outputs": [],
   "source": [
    "import pandas as pd\n",
    "import numpy as np\n",
    "import os\n",
    "import matplotlib.pyplot as plt\n",
    "import matplotlib.colors as mcolors\n",
    "import matplotlib.font_manager as fm\n",
    "import matplotlib.ticker as mticker\n",
    "from plotnine import ggplot, aes, geom_line, geom_bar, theme, element_blank, element_line, element_text, coord_flip, scale_y_continuous, labs, scale_fill_manual, ggsave, scale_x_continuous\n",
    "from mizani.formatters import number_format\n",
    "\n",
    "import warnings\n"
   ]
  },
  {
   "cell_type": "code",
   "execution_count": 98,
   "id": "b1c615de-1458-4456-b837-8da4f9322204",
   "metadata": {},
   "outputs": [],
   "source": [
    "warnings.filterwarnings('ignore', category=DeprecationWarning)"
   ]
  },
  {
   "cell_type": "code",
   "execution_count": 99,
   "id": "d163a077-938a-480c-abbc-d72488d425fd",
   "metadata": {},
   "outputs": [],
   "source": [
    "\n",
    "colors = mcolors.TABLEAU_COLORS\n",
    "\n",
    "plt.rcParams['font.family'] = 'sans-serif'\n",
    "plt.rcParams['font.sans-serif'] = ['Helvetica']\n"
   ]
  },
  {
   "cell_type": "code",
   "execution_count": 100,
   "id": "67f9f49a-bf82-49d0-8044-34b1c6386325",
   "metadata": {},
   "outputs": [],
   "source": [
    "\n",
    "\n",
    "os.chdir('C:/Repos/payment_method_case_if') \n",
    "\n",
    "imp = pd.read_excel(\"PaymentCasefromFinland_data.xlsx\")"
   ]
  },
  {
   "cell_type": "code",
   "execution_count": 101,
   "id": "07955cd4-771b-4266-a822-29e1b6f164c1",
   "metadata": {},
   "outputs": [
    {
     "name": "stdout",
     "output_type": "stream",
     "text": [
      "0\n"
     ]
    }
   ],
   "source": [
    "\n",
    "\n",
    "#sanity check 'grouped values': har jag förstått datan rätt. en rad per kombination av variabelutfall och 'customers' anger hur många med den kombinationen?\n",
    "sc_grouped = imp.drop(columns = ['customers']).drop_duplicates()\n",
    "\n",
    "print(len(sc_grouped) - len(imp)) # finns bara distinkta kombinationer av värden\n",
    "\n",
    "grunddata = (imp\n",
    "             .assign(Users = lambda x: np.where(x['FeatureInvestigated'] == 1, 'Användare', 'Övriga'),\n",
    "                     Rating = lambda x: x['Rating'].str.title())\n",
    "             )\n"
   ]
  },
  {
   "cell_type": "code",
   "execution_count": 102,
   "id": "3bbab87a-7bb9-4e26-bf00-25f90a0430bd",
   "metadata": {},
   "outputs": [],
   "source": [
    "\n",
    "def custom_theme(): \n",
    "    return (theme(\n",
    "        panel_background=element_blank(),\n",
    "        axis_ticks=element_blank(),\n",
    "        panel_grid_major_y=element_line(color=\"grey\"),\n",
    "        axis_title=element_text(size=14),\n",
    "         text = element_text(family='Carlito', size = 12)\n",
    "    ))\n",
    "\n",
    "def leaning_text():\n",
    "    return (theme(\n",
    "        axis_text_x=element_text(angle=45, hjust=1)\n",
    "    ))\n",
    "\n",
    "andel_lab = 'Andel i %'\n"
   ]
  },
  {
   "cell_type": "code",
   "execution_count": 103,
   "id": "916d8b40-d66a-4afb-a00e-0060a02c7cca",
   "metadata": {},
   "outputs": [],
   "source": [
    "\n",
    "#Slide 1: Vilka åldrar använder metoden? KODGRANSKAD CHECK\n",
    "by_age_df = (\n",
    "    grunddata.query('FeatureInvestigated == 1')\n",
    "    .groupby(['AgeClass'])\n",
    "    .agg(Antal = ('customers', 'sum'))\n",
    "    .reset_index()\n",
    "    .assign(Andel = lambda x: x['Antal'].transform(lambda y:100*y/y.sum()))\n",
    "    .assign(AgeClass = lambda x: pd.Categorical(x['AgeClass'],\n",
    "                                                          categories=['Missing', 'Group1', 'Group2', 'Group3', 'Group4'],\n",
    "                                                          ordered=True))\n",
    "    )\n",
    "\n",
    "plt_age = (ggplot(by_age_df) +\n",
    "           aes(x='AgeClass', y='Andel') +\n",
    "           geom_bar(stat = 'identity', fill = colors['tab:purple']) +\n",
    "           custom_theme() +\n",
    "           theme(axis_title_x = element_blank())+\n",
    "          labs(y=andel_lab) +\n",
    "           leaning_text()\n",
    "          )\n"
   ]
  },
  {
   "cell_type": "code",
   "execution_count": 104,
   "id": "d989a5c0-b9fe-4519-ab6b-f1626c1e0314",
   "metadata": {
    "scrolled": true
   },
   "outputs": [],
   "source": [
    "#slide 2 påverkar rating benägenheten? KODGRANSKAD CHECK\n",
    "\n",
    "rating_df = (\n",
    "    grunddata.groupby(['Rating', 'Users'])\n",
    "    .agg(Antal = ('customers', 'sum'))\n",
    "    .reset_index()\n",
    "    .assign(Andel = lambda x: x.groupby(['Users'])['Antal'].transform(lambda y:100*y/y.sum()))\n",
    "    .assign(Rating = lambda x:pd.Categorical(x['Rating'],\n",
    "                                             categories=['Missing', 'Ok', 'Good', 'Star']))\n",
    "    .assign(Andel = lambda x:np.where(x['Users'] == 'Övriga', -x['Andel'], x['Andel']))\n",
    ")\n",
    "\n",
    "plt_rating = (ggplot(rating_df) +\n",
    "              aes(x='Rating', y='Andel', fill='Users') + \n",
    "              geom_bar(stat='identity', position='identity') +\n",
    "              leaning_text() +\n",
    "              coord_flip() +\n",
    "              custom_theme() +\n",
    "              theme(axis_title_x = element_blank(),\n",
    "                   legend_title = element_blank()) +\n",
    "              scale_y_continuous(labels=lambda x: [abs(v) for v in x]) +\n",
    "              labs(y=andel_lab) +\n",
    "              scale_fill_manual(values = ['tab:pink', 'tab:blue']) \n",
    "             )"
   ]
  },
  {
   "cell_type": "code",
   "execution_count": 105,
   "id": "54a28620-ccea-494b-a82e-ad7c418562ba",
   "metadata": {},
   "outputs": [
    {
     "name": "stdout",
     "output_type": "stream",
     "text": [
      "Users\n",
      "Användare    1.748789\n",
      "Övriga       1.544067\n",
      "dtype: float64\n"
     ]
    }
   ],
   "source": [
    "# slide 3: cube rating bland användare och övriga KODGRANSKAD CHECK\n",
    "\n",
    "cube_level_df = (\n",
    "    grunddata.groupby(['Users', 'cube_level'])\n",
    "    .agg(Antal = ('customers', 'sum'))\n",
    "    .reset_index()\n",
    "    .assign(Andel = lambda x: x.groupby('Users')['Antal'].transform(lambda y: 100*y/y.sum()))\n",
    "    .assign(cube_level = lambda x: pd.Categorical(x['cube_level'],\n",
    "                                                  categories=['?', 0, 1, 2, 3]))\n",
    "    .assign(Andel = lambda x: np.where(x['Users'] == 'Övriga', -x['Andel'], x['Andel']))\n",
    "    )\n",
    "\n",
    "plt_cube_level = (ggplot(cube_level_df) +\n",
    "              aes(x='cube_level', y='Andel', fill='Users') +\n",
    "              geom_bar(stat='identity', position ='identity') +\n",
    "              coord_flip() +\n",
    "              scale_fill_manual(values=['tab:pink', 'tab:blue']) +\n",
    "             scale_y_continuous(labels=lambda x: [abs(v) for v in x]) +  #\n",
    "              custom_theme() +\n",
    "              theme(legend_title = element_blank()) +\n",
    "                  labs(x='Cube level', y=andel_lab)\n",
    ")\n",
    "\n",
    "#Beräknar snitt. oklart om snittet är värt något..\n",
    "cube_level_df_weight = cube_level_df.query(\"cube_level != '?'\")\n",
    "weighted_mean = cube_level_df_weight.groupby('Users').apply(lambda x: np.average(x['cube_level'], weights = x['Andel']))\n",
    "\n",
    "print(weighted_mean)"
   ]
  },
  {
   "cell_type": "code",
   "execution_count": 106,
   "id": "ebce54c7-a9a1-48d3-bcb4-34eb877aa9ef",
   "metadata": {},
   "outputs": [],
   "source": [
    "#dataframe 4: contact KODGRANSKAD CHECK\n",
    "\n",
    "email_df = (\n",
    "    grunddata.groupby(['Users'])\n",
    "    .apply(lambda x: (x['contact_info_edm']*x['customers']).sum() / x['customers'].sum())\n",
    "    .reset_index(name='Email')\n",
    ")\n",
    "\n",
    "telefon_df = (\n",
    "    grunddata.groupby(['Users'])\n",
    "    .apply(lambda x: (x['contact_info_tm']*x['customers']).sum() /x['customers'].sum())\n",
    "    .reset_index(name='Telefon')\n",
    "          )\n",
    "                       \n",
    "contact_df = (\n",
    "    pd.merge(email_df, telefon_df, on='Users')\n",
    "    .melt(id_vars=['Users'], value_vars=['Email', 'Telefon'], var_name='Kontaktinfo', value_name='Andel')\n",
    "    .assign(Andel = lambda x: x['Andel']*100)\n",
    ")\n",
    "\n",
    "plt_contact = (\n",
    "    ggplot(contact_df) +\n",
    "    aes(x='Kontaktinfo', y='Andel', fill='Users') +\n",
    "    geom_bar(stat='identity', position='dodge') +\n",
    "    custom_theme() +\n",
    "    theme(legend_title = element_blank(),\n",
    "         axis_title_x = element_blank()) +\n",
    "    scale_fill_manual(values = ['tab:pink', 'tab:blue']) +\n",
    "    labs(y=andel_lab) +\n",
    "    leaning_text()\n",
    "    )"
   ]
  },
  {
   "cell_type": "code",
   "execution_count": 107,
   "id": "aa8a6a3b-5716-4ecd-b77c-3f68d1987e11",
   "metadata": {},
   "outputs": [],
   "source": [
    "#duration KODGRANSKNING KLAR\n",
    "\n",
    "duration_df = (\n",
    "    grunddata.groupby(['DurationClass', 'Users'])\n",
    "    .agg(Antal = ('customers', 'sum'))\n",
    "    .reset_index()\n",
    "    .assign(Andel = lambda x: x.groupby('Users')['Antal'].transform(lambda y: 100*y/y.sum()),\n",
    "           Duration = lambda x: pd.Categorical(x['DurationClass']\n",
    "                .astype(str)\n",
    "            .str.replace('to', 'till ', regex=False)\n",
    "            .str.replace(r'\\s+', ' ', regex=True),\n",
    "           categories=['0', '1', '2', '3', '4', '5 till 6', '7 till 9', '10 till 14', '15 till 19', '20 till 29', '30+', 'Missing'],\n",
    "           ordered=True))\n",
    "    .assign(Andel = lambda x: np.where(x['Users'] == 'Övriga', -x['Andel'], x['Andel']))\n",
    "    )\n",
    "\n",
    "plt_duration = (\n",
    "    ggplot(duration_df, aes(x='Duration', y='Andel', fill='Users')) +\n",
    "    geom_bar(stat='identity', position='identity') +\n",
    "    coord_flip() +\n",
    "    custom_theme() +\n",
    "    theme(legend_title = element_blank()\n",
    "          ) +\n",
    "    labs(x = 'Antal år som kund', y = andel_lab) +\n",
    "    scale_fill_manual(values=['tab:pink', 'tab:blue'])\n",
    "    )\n"
   ]
  },
  {
   "cell_type": "code",
   "execution_count": 108,
   "id": "d54fa9a9-9e8d-4686-b777-ced6dd51e2af",
   "metadata": {},
   "outputs": [],
   "source": [
    "# products KODGRANSKAT CHECK\n",
    "\n",
    "anvandare = (\n",
    "    grunddata.query('FeatureInvestigated==1')\n",
    ")\n",
    "\n",
    "product1 = (\n",
    "    anvandare.groupby('product1', as_index=False)\n",
    "    .agg({'customers': lambda x: x.sum(skipna=True)})\n",
    "    .rename(columns={'product1':'value', 'customers': 'product1'})\n",
    ")\n",
    "\n",
    "product2 = (\n",
    "    anvandare.groupby('product2', as_index=False)\n",
    "    .agg({'customers': lambda x: x.sum(skipna=True)})\n",
    "    .rename(columns={'product2':'value', 'customers': 'product2'})\n",
    ")\n",
    "\n",
    "product3 = (\n",
    "    anvandare.groupby('product3', as_index=False)\n",
    "    .agg({'customers': lambda x: x.sum(skipna=True)})\n",
    "    .rename(columns={'product3':'value', 'customers': 'product3'})\n",
    ")\n",
    "\n",
    "product4 = (\n",
    "    anvandare.groupby('product4', as_index=False)\n",
    "    .agg({'customers': lambda x: x.sum(skipna=True)})\n",
    "    .rename(columns={'product4':'value', 'customers':'product4'})\n",
    ")\n",
    "\n",
    "merged_df = pd.merge(product1, product2, on='value', how='outer')\n",
    "\n",
    "merged_df = pd.merge(merged_df, product3, on='value', how='outer')\n",
    "\n",
    "merged_df = pd.merge(merged_df, product4, on='value', how='outer')\n",
    "\n",
    "merged_df.columns = ['value', 'product1', 'product2', 'product3', 'product4']\n",
    "\n",
    "df_long = pd.melt(merged_df, \n",
    "                  id_vars=['value'],  \n",
    "                  value_vars=['product1', 'product2', 'product3', 'product4'],  # Columns to unpivot\n",
    "                  var_name='product', \n",
    "                  value_name='customers') \n",
    "\n",
    "df_long['value'] = pd.Categorical(df_long['value'], categories=[2, 1, 0], ordered=True)\n",
    "\n",
    "plt_products = (ggplot(df_long, aes(x='product', y='customers', fill='factor(value)')) +\n",
    "                   geom_bar(stat='identity', position='stack') +\n",
    "                    custom_theme() +\n",
    "                   theme(legend_title = element_blank()) +\n",
    "                scale_fill_manual(values = ['tab:olive', 'tab:red', 'tab:orange']) +\n",
    "                labs(y='Antal')\n",
    "               )\n"
   ]
  },
  {
   "cell_type": "code",
   "execution_count": 109,
   "id": "79b4f267-fca0-4622-a93b-ab8ce60061a8",
   "metadata": {},
   "outputs": [],
   "source": [
    "plots = {'plt_age':plt_age,\n",
    "        'plt_rating':plt_rating,\n",
    "        'plt_contact':plt_contact,\n",
    "        'plt_duration':plt_duration,\n",
    "        'plt_cube_level':plt_cube_level,\n",
    "        'plt_products':plt_products}\n",
    "\n"
   ]
  },
  {
   "cell_type": "code",
   "execution_count": 110,
   "id": "b802e25b-3f92-493c-af12-0afe0ea62d20",
   "metadata": {},
   "outputs": [],
   "source": [
    "#kika på plots\n",
    "\n",
    "#for plot in plots.items():\n",
    " #   print(plot)"
   ]
  },
  {
   "cell_type": "code",
   "execution_count": 111,
   "id": "4e27f757-76d5-4207-bea8-35f82a010dec",
   "metadata": {},
   "outputs": [],
   "source": [
    "# export\n",
    "\n",
    "#for name, plot in plots.items():\n",
    " #   filename = f\"plots/{name}.pdf\"\n",
    "  #  ggsave(plot, filename=filename, dpi=300)\n"
   ]
  }
 ],
 "metadata": {
  "kernelspec": {
   "display_name": "Python 3 (ipykernel)",
   "language": "python",
   "name": "python3"
  },
  "language_info": {
   "codemirror_mode": {
    "name": "ipython",
    "version": 3
   },
   "file_extension": ".py",
   "mimetype": "text/x-python",
   "name": "python",
   "nbconvert_exporter": "python",
   "pygments_lexer": "ipython3",
   "version": "3.12.5"
  }
 },
 "nbformat": 4,
 "nbformat_minor": 5
}
