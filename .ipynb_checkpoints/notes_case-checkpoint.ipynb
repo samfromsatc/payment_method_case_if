{
 "cells": [
  {
   "cell_type": "code",
   "execution_count": null,
   "id": "0ef5a5b1-f20b-4694-8297-2c2214ffcfd7",
   "metadata": {},
   "outputs": [],
   "source": [
    "## frågor dom lär ställa\n",
    "### vad hade du velat ha mer för data?\n",
    "    ###svar: data om hur mycket produkter de faktiskt köper för. SEK expenditures typ. (skulle iofs kräva mikrodata. men kanske intervall?)\n",
    "    ###data för de andra payment methods. undersöka corr mellan att ha den här och att inte ha testat dom andra\n",
    "### Antaganden:\n",
    "    ### verksamheten/mottagarna har en uppfattning om hur Cube level funkar\n",
    "    ### åldern på användarna är en kohort-/generationseffekt. yngre människor kommer inte börja föredra pappersavier när de blir äldre\n",
    "    ### \n",
    "### avstått ifrån:\n",
    "    ### undersöka products närmre. hur många köper användare vs icke-användare osv?\n",
    "    ### undersöka hur ofta om året de betalar\n",
    "    ### undersöka produkter närmre. hur många köper användare vs icke-användare?\n",
    "    ### på jobbet hade jag frågat verksamehten :)\n",
    "    ### kodat mycket snyggare, kommenterat\n",
    "    ### ytterligare formgivning. typ decimaltecken = ','"
   ]
  }
 ],
 "metadata": {
  "kernelspec": {
   "display_name": "Python 3 (ipykernel)",
   "language": "python",
   "name": "python3"
  },
  "language_info": {
   "codemirror_mode": {
    "name": "ipython",
    "version": 3
   },
   "file_extension": ".py",
   "mimetype": "text/x-python",
   "name": "python",
   "nbconvert_exporter": "python",
   "pygments_lexer": "ipython3",
   "version": "3.12.5"
  }
 },
 "nbformat": 4,
 "nbformat_minor": 5
}
